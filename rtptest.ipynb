{
 "cells": [
  {
   "cell_type": "code",
   "execution_count": 8,
   "metadata": {},
   "outputs": [],
   "source": [
    "import random"
   ]
  },
  {
   "cell_type": "code",
   "execution_count": 52,
   "metadata": {},
   "outputs": [],
   "source": [
    "packet_vars = {'version' : 2,\n",
    "            'padding' : 0,\n",
    "            'extension' : 0,\n",
    "            'csi_count' : 0,\n",
    "            'marker' : 0,\n",
    "            'payload_type' : 97,\n",
    "            'sequence_number' : 1234,\n",
    "            'timestamp' : 5678,\n",
    "            'ssrc' : 185755418,\n",
    "            'payload' : b'123'}"
   ]
  },
  {
   "cell_type": "code",
   "execution_count": 53,
   "metadata": {},
   "outputs": [],
   "source": [
    "version = format(packet_vars['version'], 'b').zfill(2)\n",
    "padding = format(packet_vars['padding'], 'b')\n",
    "extension = format(packet_vars['extension'], 'b')\n",
    "csrc_count = format(packet_vars['csi_count'], 'b').zfill(4)\n",
    "\n",
    "#byte1 = format(version + padding + extension + csrc_count).zfill(2)\n",
    "byte1 = format(int((version + padding + extension + csrc_count), 2), 'x').zfill(2)"
   ]
  },
  {
   "cell_type": "code",
   "execution_count": 54,
   "metadata": {},
   "outputs": [
    {
     "name": "stdout",
     "output_type": "stream",
     "text": [
      " version: 10 => <class 'str'> \n",
      " padding:0 => <class 'str'>  \n",
      " extension:0 => <class 'str'>  \n",
      " csrc_count: 0000 => <class 'str'>  \n",
      " byte1:80 => <class 'str'> \n"
     ]
    }
   ],
   "source": [
    "print(f\" version: {version} => {type(version)} \\n padding:{padding} => {type(padding)}  \\n extension:{extension} => {type(extension)}  \\n csrc_count: {csrc_count} => {type(csrc_count)}  \\n byte1:{byte1} => {type(byte1)} \")"
   ]
  },
  {
   "cell_type": "code",
   "execution_count": 55,
   "metadata": {},
   "outputs": [],
   "source": [
    "packet_vars_out = {}\n",
    "byte1 = int(byte1, 16)\n",
    "byte1 = format(byte1, 'b').zfill(8)\n",
    "packet_vars_out['version'] = int(byte1[0:2],2)\n",
    "packet_vars_out['padding'] = int(byte1[2:3],2)\n",
    "packet_vars_out['extension'] = int(byte1[3:4])\n",
    "packet_vars_out['csi_count'] = int(byte1[4:8], 2)"
   ]
  },
  {
   "cell_type": "code",
   "execution_count": 56,
   "metadata": {},
   "outputs": [
    {
     "data": {
      "text/plain": [
       "{'version': 2, 'padding': 0, 'extension': 0, 'csi_count': 0}"
      ]
     },
     "execution_count": 56,
     "metadata": {},
     "output_type": "execute_result"
    }
   ],
   "source": [
    "packet_vars_out"
   ]
  },
  {
   "cell_type": "code",
   "execution_count": 57,
   "metadata": {},
   "outputs": [],
   "source": [
    "version = format(packet_vars['version'], 'b').zfill(2)\n",
    "padding = format(packet_vars['padding'], 'b')\n",
    "extension = format(packet_vars['extension'], 'b')\n",
    "csrc_count = format(packet_vars['csi_count'], 'b').zfill(4)\n",
    "\n",
    "byte1 = format(int((version + padding + extension + csrc_count), 2), 'x').zfill(2)\n",
    "\n",
    "\n",
    "#Generate second byte of the header as binary string:\n",
    "marker = format(packet_vars['marker'], 'b')\n",
    "payload_type = format(packet_vars['payload_type'], 'b').zfill(7)\n",
    "\n",
    "byte2 = format(int((marker + payload_type), 2), 'x').zfill(2)\n",
    "\n",
    "sequence_number = format(packet_vars['sequence_number'], 'x').zfill(4)\n",
    "timestamp = format(packet_vars['timestamp'], 'x').zfill(8)\n",
    "ssrc = format(packet_vars['ssrc'], 'x').zfill(8)\n",
    "\n",
    "payload = packet_vars['payload'].hex()\n",
    "\n",
    "packet = byte1 + byte2 + sequence_number + timestamp + ssrc + payload\n",
    "\n",
    "packet = packet.encode()"
   ]
  },
  {
   "cell_type": "code",
   "execution_count": 58,
   "metadata": {},
   "outputs": [
    {
     "data": {
      "text/plain": [
       "'01010000'"
      ]
     },
     "execution_count": 58,
     "metadata": {},
     "output_type": "execute_result"
    }
   ],
   "source": [
    "format(int(packet[0:2]), 'b').zfill(8)"
   ]
  },
  {
   "cell_type": "code",
   "execution_count": 59,
   "metadata": {},
   "outputs": [],
   "source": [
    "packet_vars_out = {}\n",
    "\n",
    "byte1 = packet[0:2]\n",
    "byte1 = int(byte1, 16)\n",
    "byte1 = format(byte1, 'b').zfill(8)\n",
    "packet_vars_out['version'] = int(byte1[0:2],2)\n",
    "packet_vars_out['padding'] = int(byte1[2:3],2)\n",
    "packet_vars_out['extension'] = int(byte1[3:4])\n",
    "packet_vars_out['csi_count'] = int(byte1[4:8], 2)\n",
    "\n",
    "byte2 = packet[2:4]\n",
    "byte2 = int(byte2, 16)\n",
    "byte2 = format(byte2, 'b').zfill(8) \n",
    "packet_vars_out['marker'] = int(byte2[0:1])\n",
    "packet_vars_out['payload_type'] = int(byte2[1:8], 2)\n",
    "\n",
    "\n",
    "packet_vars_out['sequence_number'] = int(packet[4:8], 16)\n",
    "packet_vars_out['timestamp'] = int(packet[8:16], 16)\n",
    "packet_vars_out['ssrc']  = int(packet[16:24], 16)\n",
    "\n",
    "\n",
    "payload = packet[24:]\n",
    "\n",
    "packet_vars_out['payload'] =  bytes.fromhex(payload.decode())\n",
    "#print(f\"payload 4: {type(payload)} {payload}\")\n"
   ]
  },
  {
   "cell_type": "code",
   "execution_count": 60,
   "metadata": {},
   "outputs": [
    {
     "data": {
      "text/plain": [
       "{'version': 2,\n",
       " 'padding': 0,\n",
       " 'extension': 0,\n",
       " 'csi_count': 0,\n",
       " 'marker': 0,\n",
       " 'payload_type': 97,\n",
       " 'sequence_number': 1234,\n",
       " 'timestamp': 5678,\n",
       " 'ssrc': 185755418,\n",
       " 'payload': b'123'}"
      ]
     },
     "execution_count": 60,
     "metadata": {},
     "output_type": "execute_result"
    }
   ],
   "source": [
    "packet_vars_out"
   ]
  },
  {
   "cell_type": "code",
   "execution_count": null,
   "metadata": {},
   "outputs": [],
   "source": []
  },
  {
   "cell_type": "code",
   "execution_count": 2,
   "metadata": {},
   "outputs": [],
   "source": [
    "a = True\n",
    "if not a:\n",
    "    print(\"a\")"
   ]
  },
  {
   "cell_type": "code",
   "execution_count": 3,
   "metadata": {},
   "outputs": [],
   "source": [
    "a = 1"
   ]
  },
  {
   "cell_type": "code",
   "execution_count": 6,
   "metadata": {},
   "outputs": [],
   "source": [
    "a +=1 "
   ]
  },
  {
   "cell_type": "code",
   "execution_count": 1,
   "metadata": {},
   "outputs": [
    {
     "data": {
      "text/plain": [
       "7"
      ]
     },
     "execution_count": 1,
     "metadata": {},
     "output_type": "execute_result"
    }
   ],
   "source": [
    "a = 100\n",
    "a.bit_length()"
   ]
  },
  {
   "cell_type": "code",
   "execution_count": 3,
   "metadata": {},
   "outputs": [
    {
     "ename": "AttributeError",
     "evalue": "'str' object has no attribute 'bit_length'",
     "output_type": "error",
     "traceback": [
      "\u001b[0;31m---------------------------------------------------------------------------\u001b[0m",
      "\u001b[0;31mAttributeError\u001b[0m                            Traceback (most recent call last)",
      "\u001b[0;32m/tmp/ipykernel_17877/1649099442.py\u001b[0m in \u001b[0;36m<module>\u001b[0;34m\u001b[0m\n\u001b[1;32m      1\u001b[0m \u001b[0mb\u001b[0m \u001b[0;34m=\u001b[0m \u001b[0mhex\u001b[0m\u001b[0;34m(\u001b[0m\u001b[0;36m100\u001b[0m\u001b[0;34m)\u001b[0m\u001b[0;34m\u001b[0m\u001b[0;34m\u001b[0m\u001b[0m\n\u001b[0;32m----> 2\u001b[0;31m \u001b[0mb\u001b[0m\u001b[0;34m.\u001b[0m\u001b[0mbit_length\u001b[0m\u001b[0;34m(\u001b[0m\u001b[0;34m)\u001b[0m\u001b[0;34m\u001b[0m\u001b[0;34m\u001b[0m\u001b[0m\n\u001b[0m",
      "\u001b[0;31mAttributeError\u001b[0m: 'str' object has no attribute 'bit_length'"
     ]
    }
   ],
   "source": [
    "b = hex(100)\n",
    "b.bit_length()"
   ]
  },
  {
   "cell_type": "code",
   "execution_count": 2,
   "metadata": {},
   "outputs": [
    {
     "data": {
      "text/plain": [
       "'11:43:13.486490'"
      ]
     },
     "execution_count": 2,
     "metadata": {},
     "output_type": "execute_result"
    }
   ],
   "source": [
    "import datetime\n",
    "str(datetime.datetime.now().time())"
   ]
  },
  {
   "cell_type": "code",
   "execution_count": 14,
   "metadata": {},
   "outputs": [
    {
     "data": {
      "text/plain": [
       "1661141171"
      ]
     },
     "execution_count": 14,
     "metadata": {},
     "output_type": "execute_result"
    }
   ],
   "source": [
    "import time\n",
    "int(time.time())"
   ]
  },
  {
   "cell_type": "code",
   "execution_count": 11,
   "metadata": {},
   "outputs": [
    {
     "ename": "SyntaxError",
     "evalue": "invalid token (3655847294.py, line 1)",
     "output_type": "error",
     "traceback": [
      "\u001b[0;36m  File \u001b[0;32m\"/tmp/ipykernel_20993/3655847294.py\"\u001b[0;36m, line \u001b[0;32m1\u001b[0m\n\u001b[0;31m    a = 0b'12'\u001b[0m\n\u001b[0m         ^\u001b[0m\n\u001b[0;31mSyntaxError\u001b[0m\u001b[0;31m:\u001b[0m invalid token\n"
     ]
    }
   ],
   "source": [
    "a = 0b'12'\n",
    "\n",
    "a.bit_length()"
   ]
  },
  {
   "cell_type": "code",
   "execution_count": null,
   "metadata": {},
   "outputs": [],
   "source": []
  }
 ],
 "metadata": {
  "kernelspec": {
   "display_name": "Python 3.7.5 ('pyshine')",
   "language": "python",
   "name": "python3"
  },
  "language_info": {
   "codemirror_mode": {
    "name": "ipython",
    "version": 3
   },
   "file_extension": ".py",
   "mimetype": "text/x-python",
   "name": "python",
   "nbconvert_exporter": "python",
   "pygments_lexer": "ipython3",
   "version": "3.7.13"
  },
  "orig_nbformat": 4,
  "vscode": {
   "interpreter": {
    "hash": "dde2816d85591e033d96a422fb8ff1937335e72a69afdfa27d94760f857cef5c"
   }
  }
 },
 "nbformat": 4,
 "nbformat_minor": 2
}
